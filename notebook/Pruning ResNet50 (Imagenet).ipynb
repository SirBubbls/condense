{
 "cells": [
  {
   "cell_type": "code",
   "execution_count": 1,
   "metadata": {},
   "outputs": [
    {
     "name": "stdout",
     "output_type": "stream",
     "text": [
      "Unpruned: 0.0010335178707784368\n",
      "Pruned: 0.001123115944041504\n"
     ]
    }
   ],
   "source": [
    "import numpy as np\n",
    "from random import choice\n",
    "from PIL import Image\n",
    "import keras\n",
    "from matplotlib.pyplot import imshow\n",
    "from keras.applications.resnet50 import ResNet50\n",
    "from keras.applications.imagenet_utils import preprocess_input, decode_predictions\n",
    "import matplotlib.pyplot as plt\n",
    "from glob import glob\n",
    "import sys\n",
    "sys.path.append('..')\n",
    "import condense\n",
    "\n",
    "model = ResNet50(weights='imagenet')\n",
    "pruned = condense.one_shot(model, .0001)\n",
    "DATA = '/Users/lucas/Dropbox/FH-Landshut Courses/Bachelor Arbeit/resources/datasets/imagenet/'\n",
    "\n",
    "print(f'Unpruned: {condense.utils.model_utils.calc_model_sparsity(model)}')\n",
    "print(f'Pruned: {condense.utils.model_utils.calc_model_sparsity(pruned)}')"
   ]
  },
  {
   "cell_type": "code",
   "execution_count": 2,
   "metadata": {},
   "outputs": [
    {
     "name": "stderr",
     "output_type": "stream",
     "text": [
      "Clipping input data to the valid range for imshow with RGB data ([0..1] for floats or [0..255] for integers).\n"
     ]
    },
    {
     "name": "stdout",
     "output_type": "stream",
     "text": [
      "644 0.99998593 644\n",
      "644 0.99998593 644\n"
     ]
    },
    {
     "data": {
      "image/png": "[encoded data removed]",
      "text/plain": [
       "<Figure size 432x288 with 1 Axes>"
      ]
     },
     "metadata": {
      "needs_background": "light"
     },
     "output_type": "display_data"
    }
   ],
   "source": [
    "def test_data_generator():\n",
    "    while True:\n",
    "        label = choice(glob(f'{DATA}*/')).split('/')[-2]\n",
    "        im = Image.open(choice(glob(f'{DATA}/{label}/*')))\n",
    "        im = im.resize((224,224))\n",
    "        im = preprocess_input(np.asarray(im))\n",
    "        y = np.zeros((1,1000))\n",
    "        y[0, int(label)] = 1.0\n",
    "        yield np.array([im]), y.reshape((1, 1000))\n",
    "\n",
    "gen = test_data_generator()\n",
    "im, label = next(gen)\n",
    "imshow(im[0])\n",
    "x = model.predict(np.array(im))\n",
    "x_pruned = pruned.predict(im)\n",
    "print(np.argmax(x), np.max(x), np.argmax(label))\n",
    "print(np.argmax(x_pruned), np.max(x_pruned), np.argmax(label))"
   ]
  },
  {
   "cell_type": "code",
   "execution_count": 3,
   "metadata": {},
   "outputs": [
    {
     "name": "stdout",
     "output_type": "stream",
     "text": [
      "Base Loss: 1.0170140266418457\n"
     ]
    }
   ],
   "source": [
    "model.compile('adam', 'categorical_crossentropy')\n",
    "base_eval = model.evaluate(gen, steps=200, verbose=0)\n",
    "print(f'Base Loss: {base_eval}')"
   ]
  },
  {
   "cell_type": "code",
   "execution_count": 4,
   "metadata": {},
   "outputs": [
    {
     "name": "stderr",
     "output_type": "stream",
     "text": [
      "WARNING:root:Layer conv1_pad is not supported.\n",
      "WARNING:root:Layer conv1_bn is not supported.\n",
      "WARNING:root:Layer conv1_relu is not supported.\n",
      "WARNING:root:Layer pool1_pad is not supported.\n",
      "WARNING:root:Layer pool1_pool is not supported.\n",
      "WARNING:root:Layer conv2_block1_1_bn is not supported.\n",
      "WARNING:root:Layer conv2_block1_1_relu is not supported.\n",
      "WARNING:root:Layer conv2_block1_2_bn is not supported.\n",
      "WARNING:root:Layer conv2_block1_2_relu is not supported.\n",
      "WARNING:root:Layer conv2_block1_0_bn is not supported.\n",
      "WARNING:root:Layer conv2_block1_3_bn is not supported.\n",
      "WARNING:root:Layer conv2_block1_add is not supported.\n",
      "WARNING:root:Layer conv2_block1_out is not supported.\n",
      "WARNING:root:Layer conv2_block2_1_bn is not supported.\n",
      "WARNING:root:Layer conv2_block2_1_relu is not supported.\n",
      "WARNING:root:Layer conv2_block2_2_bn is not supported.\n",
      "WARNING:root:Layer conv2_block2_2_relu is not supported.\n",
      "WARNING:root:Layer conv2_block2_3_bn is not supported.\n",
      "WARNING:root:Layer conv2_block2_add is not supported.\n",
      "WARNING:root:Layer conv2_block2_out is not supported.\n",
      "WARNING:root:Layer conv2_block3_1_bn is not supported.\n",
      "WARNING:root:Layer conv2_block3_1_relu is not supported.\n",
      "WARNING:root:Layer conv2_block3_2_bn is not supported.\n",
      "WARNING:root:Layer conv2_block3_2_relu is not supported.\n",
      "WARNING:root:Layer conv2_block3_3_bn is not supported.\n",
      "WARNING:root:Layer conv2_block3_add is not supported.\n",
      "WARNING:root:Layer conv2_block3_out is not supported.\n",
      "WARNING:root:Layer conv3_block1_1_bn is not supported.\n",
      "WARNING:root:Layer conv3_block1_1_relu is not supported.\n",
      "WARNING:root:Layer conv3_block1_2_bn is not supported.\n",
      "WARNING:root:Layer conv3_block1_2_relu is not supported.\n",
      "WARNING:root:Layer conv3_block1_0_bn is not supported.\n",
      "WARNING:root:Layer conv3_block1_3_bn is not supported.\n",
      "WARNING:root:Layer conv3_block1_add is not supported.\n",
      "WARNING:root:Layer conv3_block1_out is not supported.\n",
      "WARNING:root:Layer conv3_block2_1_bn is not supported.\n",
      "WARNING:root:Layer conv3_block2_1_relu is not supported.\n",
      "WARNING:root:Layer conv3_block2_2_bn is not supported.\n",
      "WARNING:root:Layer conv3_block2_2_relu is not supported.\n",
      "WARNING:root:Layer conv3_block2_3_bn is not supported.\n",
      "WARNING:root:Layer conv3_block2_add is not supported.\n",
      "WARNING:root:Layer conv3_block2_out is not supported.\n",
      "WARNING:root:Layer conv3_block3_1_bn is not supported.\n",
      "WARNING:root:Layer conv3_block3_1_relu is not supported.\n",
      "WARNING:root:Layer conv3_block3_2_bn is not supported.\n",
      "WARNING:root:Layer conv3_block3_2_relu is not supported.\n",
      "WARNING:root:Layer conv3_block3_3_bn is not supported.\n",
      "WARNING:root:Layer conv3_block3_add is not supported.\n",
      "WARNING:root:Layer conv3_block3_out is not supported.\n",
      "WARNING:root:Layer conv3_block4_1_bn is not supported.\n",
      "WARNING:root:Layer conv3_block4_1_relu is not supported.\n",
      "WARNING:root:Layer conv3_block4_2_bn is not supported.\n",
      "WARNING:root:Layer conv3_block4_2_relu is not supported.\n",
      "WARNING:root:Layer conv3_block4_3_bn is not supported.\n",
      "WARNING:root:Layer conv3_block4_add is not supported.\n",
      "WARNING:root:Layer conv3_block4_out is not supported.\n",
      "WARNING:root:Layer conv4_block1_1_bn is not supported.\n",
      "WARNING:root:Layer conv4_block1_1_relu is not supported.\n",
      "WARNING:root:Layer conv4_block1_2_bn is not supported.\n",
      "WARNING:root:Layer conv4_block1_2_relu is not supported.\n",
      "WARNING:root:Layer conv4_block1_0_bn is not supported.\n",
      "WARNING:root:Layer conv4_block1_3_bn is not supported.\n",
      "WARNING:root:Layer conv4_block1_add is not supported.\n",
      "WARNING:root:Layer conv4_block1_out is not supported.\n",
      "WARNING:root:Layer conv4_block2_1_bn is not supported.\n",
      "WARNING:root:Layer conv4_block2_1_relu is not supported.\n",
      "WARNING:root:Layer conv4_block2_2_bn is not supported.\n",
      "WARNING:root:Layer conv4_block2_2_relu is not supported.\n",
      "WARNING:root:Layer conv4_block2_3_bn is not supported.\n",
      "WARNING:root:Layer conv4_block2_add is not supported.\n",
      "WARNING:root:Layer conv4_block2_out is not supported.\n",
      "WARNING:root:Layer conv4_block3_1_bn is not supported.\n",
      "WARNING:root:Layer conv4_block3_1_relu is not supported.\n",
      "WARNING:root:Layer conv4_block3_2_bn is not supported.\n",
      "WARNING:root:Layer conv4_block3_2_relu is not supported.\n",
      "WARNING:root:Layer conv4_block3_3_bn is not supported.\n",
      "WARNING:root:Layer conv4_block3_add is not supported.\n",
      "WARNING:root:Layer conv4_block3_out is not supported.\n",
      "WARNING:root:Layer conv4_block4_1_bn is not supported.\n",
      "WARNING:root:Layer conv4_block4_1_relu is not supported.\n",
      "WARNING:root:Layer conv4_block4_2_bn is not supported.\n",
      "WARNING:root:Layer conv4_block4_2_relu is not supported.\n",
      "WARNING:root:Layer conv4_block4_3_bn is not supported.\n",
      "WARNING:root:Layer conv4_block4_add is not supported.\n",
      "WARNING:root:Layer conv4_block4_out is not supported.\n",
      "WARNING:root:Layer conv4_block5_1_bn is not supported.\n",
      "WARNING:root:Layer conv4_block5_1_relu is not supported.\n",
      "WARNING:root:Layer conv4_block5_2_bn is not supported.\n",
      "WARNING:root:Layer conv4_block5_2_relu is not supported.\n",
      "WARNING:root:Layer conv4_block5_3_bn is not supported.\n",
      "WARNING:root:Layer conv4_block5_add is not supported.\n",
      "WARNING:root:Layer conv4_block5_out is not supported.\n",
      "WARNING:root:Layer conv4_block6_1_bn is not supported.\n",
      "WARNING:root:Layer conv4_block6_1_relu is not supported.\n",
      "WARNING:root:Layer conv4_block6_2_bn is not supported.\n",
      "WARNING:root:Layer conv4_block6_2_relu is not supported.\n",
      "WARNING:root:Layer conv4_block6_3_bn is not supported.\n",
      "WARNING:root:Layer conv4_block6_add is not supported.\n",
      "WARNING:root:Layer conv4_block6_out is not supported.\n",
      "WARNING:root:Layer conv5_block1_1_bn is not supported.\n",
      "WARNING:root:Layer conv5_block1_1_relu is not supported.\n",
      "WARNING:root:Layer conv5_block1_2_bn is not supported.\n",
      "WARNING:root:Layer conv5_block1_2_relu is not supported.\n",
      "WARNING:root:Layer conv5_block1_0_bn is not supported.\n",
      "WARNING:root:Layer conv5_block1_3_bn is not supported.\n",
      "WARNING:root:Layer conv5_block1_add is not supported.\n",
      "WARNING:root:Layer conv5_block1_out is not supported.\n",
      "WARNING:root:Layer conv5_block2_1_bn is not supported.\n",
      "WARNING:root:Layer conv5_block2_1_relu is not supported.\n",
      "WARNING:root:Layer conv5_block2_2_bn is not supported.\n",
      "WARNING:root:Layer conv5_block2_2_relu is not supported.\n",
      "WARNING:root:Layer conv5_block2_3_bn is not supported.\n",
      "WARNING:root:Layer conv5_block2_add is not supported.\n",
      "WARNING:root:Layer conv5_block2_out is not supported.\n",
      "WARNING:root:Layer conv5_block3_1_bn is not supported.\n",
      "WARNING:root:Layer conv5_block3_1_relu is not supported.\n",
      "WARNING:root:Layer conv5_block3_2_bn is not supported.\n",
      "WARNING:root:Layer conv5_block3_2_relu is not supported.\n",
      "WARNING:root:Layer conv5_block3_3_bn is not supported.\n",
      "WARNING:root:Layer conv5_block3_add is not supported.\n",
      "WARNING:root:Layer conv5_block3_out is not supported.\n",
      "WARNING:root:Layer avg_pool is not supported.\n"
     ]
    },
    {
     "name": "stdout",
     "output_type": "stream",
     "text": [
      "1/1 [==============================] - 7s 7s/step - loss: 6.1830\n"
     ]
    },
    {
     "data": {
      "text/plain": [
       "<tensorflow.python.keras.callbacks.History at 0x150c511f0>"
      ]
     },
     "execution_count": 4,
     "metadata": {},
     "output_type": "execute_result"
    }
   ],
   "source": [
    "pruned = condense.keras.wrap_model(model, condense.optimizer.sparsity_functions.Constant(0.3))\n",
    "pruned.compile('adam', 'categorical_crossentropy')\n",
    "pruned.fit(gen, epochs=1, steps_per_epoch=1, callbacks=[condense.keras.PruningCallback()])"
   ]
  },
  {
   "cell_type": "code",
   "execution_count": 5,
   "metadata": {},
   "outputs": [
    {
     "name": "stdout",
     "output_type": "stream",
     "text": [
      "Pruned Evaluation Loss: 1.7179803848266602\n",
      "Delta: 0.7009663581848145\n"
     ]
    }
   ],
   "source": [
    "pruned_eval = pruned.evaluate(gen, steps=200, verbose=0)\n",
    "\n",
    "print(f'Pruned Evaluation Loss: {pruned_eval}')\n",
    "print(f'Delta: {abs(pruned_eval - base_eval)}')"
   ]
  },
  {
   "cell_type": "code",
   "execution_count": 13,
   "metadata": {},
   "outputs": [
    {
     "name": "stderr",
     "output_type": "stream",
     "text": [
      "WARNING:matplotlib.image:Clipping input data to the valid range for imshow with RGB data ([0..1] for floats or [0..255] for integers).\n"
     ]
    },
    {
     "name": "stdout",
     "output_type": "stream",
     "text": [
      "816 0.4006098 816\n"
     ]
    },
    {
     "data": {
      "image/png": "[encoded data removed]",
      "text/plain": [
       "<Figure size 432x288 with 1 Axes>"
      ]
     },
     "metadata": {
      "needs_background": "light"
     },
     "output_type": "display_data"
    }
   ],
   "source": [
    "gen = test_data_generator()\n",
    "im, label = next(gen)\n",
    "imshow(im[0])\n",
    "x = model.predict(np.array(im))\n",
    "x_pruned = pruned.predict(im)\n",
    "print(np.argmax(x), np.max(x), np.argmax(label))"
   ]
  }
 ],
 "metadata": {
  "kernelspec": {
   "display_name": "Python 3",
   "language": "python",
   "name": "python3"
  },
  "language_info": {
   "codemirror_mode": {
    "name": "ipython",
    "version": 3
   },
   "file_extension": ".py",
   "mimetype": "text/x-python",
   "name": "python",
   "nbconvert_exporter": "python",
   "pygments_lexer": "ipython3",
   "version": "3.8.1"
  }
 },
 "nbformat": 4,
 "nbformat_minor": 4
}
