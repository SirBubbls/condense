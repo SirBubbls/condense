{
 "cells": [
  {
   "cell_type": "code",
   "execution_count": 1,
   "metadata": {},
   "outputs": [],
   "source": [
    "import torch\n",
    "import torch.nn as nn\n",
    "import keras\n",
    "import tensorflow_datasets as tfds\n",
    "import numpy as np\n",
    "import sys\n",
    "import matplotlib.pyplot as plt\n",
    "sys.path.append('..')\n",
    "import condense\n",
    "condense.logger.setLevel(\"INFO\")\n",
    "\n",
    "\n",
    "ds_train, ds_test = tfds.load('mnist', split=['train', 'test'], shuffle_files=True, as_supervised=True)\n",
    "def generator(batch_size, data_set):\n",
    "    while True:\n",
    "        X, y = next(tfds.as_numpy(data_set.batch(batch_size).cache()))\n",
    "        yield torch.Tensor(X.reshape(batch_size, 1, 28,28)), torch.Tensor(y).type(torch.LongTensor)\n",
    "gen = generator(300, ds_train)\n",
    "gen_test = generator(250, ds_test)"
   ]
  },
  {
   "cell_type": "markdown",
   "metadata": {},
   "source": [
    "# Model Definition"
   ]
  },
  {
   "cell_type": "code",
   "execution_count": 2,
   "metadata": {},
   "outputs": [],
   "source": [
    "class Network(nn.Module):\n",
    "    def __init__(self):\n",
    "        super(Network, self).__init__()\n",
    "        self.layer1 = nn.Conv2d(in_channels=1, out_channels=4, kernel_size=4, stride=2)\n",
    "        self.layer2 = nn.Conv2d(in_channels=4, out_channels=2, kernel_size=2)\n",
    "        self.dense = nn.Linear(288, out_features=50)\n",
    "        self.output = nn.Linear(50, out_features=10)\n",
    "    \n",
    "\n",
    "    def forward(self, X):\n",
    "        X = self.layer1.forward(X)\n",
    "        X = self.layer2.forward(torch.relu(X))\n",
    "        X = X.view(torch.relu(X).size(0), -1)\n",
    "        X = self.dense.forward(torch.relu(X))\n",
    "        X = self.output.forward(torch.relu(X))\n",
    "        X = torch.log_softmax(X, 1)\n",
    "        return X\n",
    "    \n",
    "    def train(self, d, epochs=20):\n",
    "        criterion = nn.CrossEntropyLoss()\n",
    "        optim = torch.optim.SGD(self.parameters(), lr=0.01, weight_decay=0.1)\n",
    "        \n",
    "        for _ in range(epochs):\n",
    "            X, y = next(d)\n",
    "            for _ in range(20):\n",
    "                self.zero_grad()\n",
    "                pred = self.forward(X)\n",
    "                l = criterion(pred, y)\n",
    "                l.backward()\n",
    "                optim.step()\n",
    "            print('Training Loss:', float(l))\n",
    "            \n",
    "net = Network()"
   ]
  },
  {
   "cell_type": "markdown",
   "metadata": {},
   "source": [
    "# Apply `PruningAgent` module to your model\n",
    "\n",
    "As we can see, no pruning has happened yet and all sparsity masks are initialized to `1`."
   ]
  },
  {
   "cell_type": "code",
   "execution_count": 3,
   "metadata": {},
   "outputs": [
    {
     "data": {
      "text/plain": [
       "'Parameter Sparsity: [0.0, 0.0, 0.0, 0.0, 0.0, 0.0, 0.0, 0.0]'"
      ]
     },
     "execution_count": 3,
     "metadata": {},
     "output_type": "execute_result"
    }
   ],
   "source": [
    "pruned = condense.torch.PruningAgent(net, condense.optimizer.sparsity_functions.Constant(0.8))   \n",
    "f'Parameter Sparsity: {pruned.get_parameter_sparsity()}'"
   ]
  },
  {
   "cell_type": "markdown",
   "metadata": {},
   "source": [
    "# Start the ticket search process\n",
    "The ticket search process is training operation agnostic, so you are free to use whatever you like to train your model.\n",
    "On `TicketSearch` entry all model parameters get saved for reinitialization later on.\n",
    "On exit, parameters get reinitialized to their original values and masks get applied."
   ]
  },
  {
   "cell_type": "code",
   "execution_count": 4,
   "metadata": {},
   "outputs": [
    {
     "name": "stderr",
     "output_type": "stream",
     "text": [
      "INFO:condense:💾 Storing module parameters for reinitialization\n",
      "INFO:condense:🔬 Searching for winning ticket\n"
     ]
    },
    {
     "name": "stdout",
     "output_type": "stream",
     "text": [
      "Training Loss: 2.156653881072998\n",
      "Training Loss: 0.8623332977294922\n",
      "Training Loss: 0.19363929331302643\n",
      "Training Loss: 0.056067198514938354\n",
      "Training Loss: 0.027829818427562714\n",
      "Training Loss: 0.020469684153795242\n",
      "Training Loss: 0.014686280861496925\n",
      "Training Loss: 0.01255014818161726\n",
      "Training Loss: 0.011361232958734035\n"
     ]
    },
    {
     "name": "stderr",
     "output_type": "stream",
     "text": [
      "INFO:condense:🎟 Winning ticket found\n",
      "INFO:condense:⚙️ Generating Mask\n",
      "INFO:condense:😄 Reinitialized module parameters\n",
      "INFO:condense:🥷 Ticket masks applied to module parameters\n"
     ]
    },
    {
     "name": "stdout",
     "output_type": "stream",
     "text": [
      "Training Loss: 0.011917770840227604\n"
     ]
    },
    {
     "data": {
      "text/plain": [
       "'Parameter Sparsity: [0.8125, 1.0, 0.8125, 1.0, 0.8000694444444445, 0.82, 0.802, 0.9]'"
      ]
     },
     "execution_count": 4,
     "metadata": {},
     "output_type": "execute_result"
    }
   ],
   "source": [
    "with condense.torch.TicketSearch(pruned):\n",
    "    pruned.model.train(gen, 10)  \n",
    "    \n",
    "f'Parameter Sparsity: {pruned.get_parameter_sparsity()}'    "
   ]
  },
  {
   "cell_type": "markdown",
   "metadata": {},
   "source": [
    "# Start the actual training on the pruned model"
   ]
  },
  {
   "cell_type": "code",
   "execution_count": 5,
   "metadata": {},
   "outputs": [
    {
     "name": "stdout",
     "output_type": "stream",
     "text": [
      "Training Loss: 0.45609796047210693\n",
      "Training Loss: 0.24220678210258484\n",
      "Training Loss: 0.1433119773864746\n",
      "Training Loss: 0.09626256674528122\n",
      "Training Loss: 0.06380551308393478\n",
      "Training Loss: 0.04837682098150253\n",
      "Training Loss: 0.03928240016102791\n",
      "Training Loss: 0.033478058874607086\n",
      "Training Loss: 0.02960151433944702\n",
      "Training Loss: 0.026925450190901756\n",
      "Parameter Sparsity: [0.8125, 1.0, 0.8125, 1.0, 0.8000694444444445, 0.82, 0.802, 0.9]\n"
     ]
    },
    {
     "data": {
      "text/plain": [
       "<matplotlib.image.AxesImage at 0x1606a0190>"
      ]
     },
     "execution_count": 5,
     "metadata": {},
     "output_type": "execute_result"
    },
    {
     "data": {
      "image/png": "[encoded data removed]",
      "text/plain": [
       "<Figure size 432x288 with 1 Axes>"
      ]
     },
     "metadata": {
      "needs_background": "light"
     },
     "output_type": "display_data"
    }
   ],
   "source": [
    "pruned.model.train(gen, 10) \n",
    "print(f'Parameter Sparsity: {pruned.get_parameter_sparsity()}') \n",
    "plt.imshow(np.abs(pruned.model.output.weight.detach().numpy()), vmin=0, vmax=.1)"
   ]
  }
 ],
 "metadata": {
  "kernelspec": {
   "display_name": "Python 3",
   "language": "python",
   "name": "python3"
  },
  "language_info": {
   "codemirror_mode": {
    "name": "ipython",
    "version": 3
   },
   "file_extension": ".py",
   "mimetype": "text/x-python",
   "name": "python",
   "nbconvert_exporter": "python",
   "pygments_lexer": "ipython3",
   "version": "3.8.1"
  }
 },
 "nbformat": 4,
 "nbformat_minor": 4
}
